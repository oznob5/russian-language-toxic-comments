{
 "cells": [
  {
   "cell_type": "code",
   "execution_count": 3,
   "id": "f764a994",
   "metadata": {},
   "outputs": [
    {
     "name": "stderr",
     "output_type": "stream",
     "text": [
      "[nltk_data] Downloading package punkt to /home/giorgi/nltk_data...\n",
      "[nltk_data]   Unzipping tokenizers/punkt.zip.\n",
      "[nltk_data] Downloading package stopwords to /home/giorgi/nltk_data...\n",
      "[nltk_data]   Unzipping corpora/stopwords.zip.\n"
     ]
    }
   ],
   "source": [
    "import pandas as pd\n",
    "import numpy as np\n",
    "import matplotlib.pyplot as plt\n",
    "from sklearn.model_selection import train_test_split, GridSearchCV\n",
    "from sklearn.metrics import plot_precision_recall_curve, recall_score, precision_recall_curve, precision_score\n",
    "from sklearn.linear_model import LogisticRegression\n",
    "from sklearn.pipeline import Pipeline\n",
    "from sklearn.feature_extraction.text import TfidfVectorizer\n",
    "import nltk\n",
    "from nltk.corpus import stopwords\n",
    "from nltk.tokenize import word_tokenize\n",
    "from nltk.stem import SnowballStemmer\n",
    "nltk.download('punkt')\n",
    "nltk.download('stopwords')\n",
    "import string\n",
    "\n",
    "import warnings\n",
    "warnings.filterwarnings(\"ignore\")"
   ]
  },
  {
   "cell_type": "code",
   "execution_count": 4,
   "id": "5500628f",
   "metadata": {},
   "outputs": [],
   "source": [
    "df = pd.read_csv('labeled.csv')"
   ]
  },
  {
   "cell_type": "markdown",
   "id": "9307042d",
   "metadata": {},
   "source": [
    "# Анализ данных"
   ]
  },
  {
   "cell_type": "code",
   "execution_count": 5,
   "id": "a29f22a2",
   "metadata": {},
   "outputs": [
    {
     "data": {
      "text/html": [
       "<div>\n",
       "<style scoped>\n",
       "    .dataframe tbody tr th:only-of-type {\n",
       "        vertical-align: middle;\n",
       "    }\n",
       "\n",
       "    .dataframe tbody tr th {\n",
       "        vertical-align: top;\n",
       "    }\n",
       "\n",
       "    .dataframe thead th {\n",
       "        text-align: right;\n",
       "    }\n",
       "</style>\n",
       "<table border=\"1\" class=\"dataframe\">\n",
       "  <thead>\n",
       "    <tr style=\"text-align: right;\">\n",
       "      <th></th>\n",
       "      <th>comment</th>\n",
       "      <th>toxic</th>\n",
       "    </tr>\n",
       "  </thead>\n",
       "  <tbody>\n",
       "    <tr>\n",
       "      <th>0</th>\n",
       "      <td>Верблюдов-то за что? Дебилы, бл...\\n</td>\n",
       "      <td>1.0</td>\n",
       "    </tr>\n",
       "    <tr>\n",
       "      <th>1</th>\n",
       "      <td>Хохлы, это отдушина затюканого россиянина, мол...</td>\n",
       "      <td>1.0</td>\n",
       "    </tr>\n",
       "    <tr>\n",
       "      <th>2</th>\n",
       "      <td>Собаке - собачья смерть\\n</td>\n",
       "      <td>1.0</td>\n",
       "    </tr>\n",
       "    <tr>\n",
       "      <th>3</th>\n",
       "      <td>Страницу обнови, дебил. Это тоже не оскорблени...</td>\n",
       "      <td>1.0</td>\n",
       "    </tr>\n",
       "    <tr>\n",
       "      <th>4</th>\n",
       "      <td>тебя не убедил 6-страничный пдф в том, что Скр...</td>\n",
       "      <td>1.0</td>\n",
       "    </tr>\n",
       "  </tbody>\n",
       "</table>\n",
       "</div>"
      ],
      "text/plain": [
       "                                             comment  toxic\n",
       "0               Верблюдов-то за что? Дебилы, бл...\\n    1.0\n",
       "1  Хохлы, это отдушина затюканого россиянина, мол...    1.0\n",
       "2                          Собаке - собачья смерть\\n    1.0\n",
       "3  Страницу обнови, дебил. Это тоже не оскорблени...    1.0\n",
       "4  тебя не убедил 6-страничный пдф в том, что Скр...    1.0"
      ]
     },
     "execution_count": 5,
     "metadata": {},
     "output_type": "execute_result"
    }
   ],
   "source": [
    "df.head()"
   ]
  },
  {
   "cell_type": "code",
   "execution_count": 6,
   "id": "aee3b041",
   "metadata": {},
   "outputs": [
    {
     "data": {
      "text/plain": [
       "(14412, 2)"
      ]
     },
     "execution_count": 6,
     "metadata": {},
     "output_type": "execute_result"
    }
   ],
   "source": [
    "df.shape"
   ]
  },
  {
   "cell_type": "code",
   "execution_count": 7,
   "id": "69c38a4f",
   "metadata": {},
   "outputs": [],
   "source": [
    "df.toxic = df.toxic.apply(int)  # переведем колонку toxic в целые числа"
   ]
  },
  {
   "cell_type": "code",
   "execution_count": 8,
   "id": "985346d4",
   "metadata": {},
   "outputs": [
    {
     "data": {
      "text/html": [
       "<div>\n",
       "<style scoped>\n",
       "    .dataframe tbody tr th:only-of-type {\n",
       "        vertical-align: middle;\n",
       "    }\n",
       "\n",
       "    .dataframe tbody tr th {\n",
       "        vertical-align: top;\n",
       "    }\n",
       "\n",
       "    .dataframe thead th {\n",
       "        text-align: right;\n",
       "    }\n",
       "</style>\n",
       "<table border=\"1\" class=\"dataframe\">\n",
       "  <thead>\n",
       "    <tr style=\"text-align: right;\">\n",
       "      <th></th>\n",
       "      <th>comment</th>\n",
       "      <th>toxic</th>\n",
       "    </tr>\n",
       "  </thead>\n",
       "  <tbody>\n",
       "    <tr>\n",
       "      <th>0</th>\n",
       "      <td>Верблюдов-то за что? Дебилы, бл...\\n</td>\n",
       "      <td>1</td>\n",
       "    </tr>\n",
       "    <tr>\n",
       "      <th>1</th>\n",
       "      <td>Хохлы, это отдушина затюканого россиянина, мол...</td>\n",
       "      <td>1</td>\n",
       "    </tr>\n",
       "    <tr>\n",
       "      <th>2</th>\n",
       "      <td>Собаке - собачья смерть\\n</td>\n",
       "      <td>1</td>\n",
       "    </tr>\n",
       "    <tr>\n",
       "      <th>3</th>\n",
       "      <td>Страницу обнови, дебил. Это тоже не оскорблени...</td>\n",
       "      <td>1</td>\n",
       "    </tr>\n",
       "    <tr>\n",
       "      <th>4</th>\n",
       "      <td>тебя не убедил 6-страничный пдф в том, что Скр...</td>\n",
       "      <td>1</td>\n",
       "    </tr>\n",
       "  </tbody>\n",
       "</table>\n",
       "</div>"
      ],
      "text/plain": [
       "                                             comment  toxic\n",
       "0               Верблюдов-то за что? Дебилы, бл...\\n      1\n",
       "1  Хохлы, это отдушина затюканого россиянина, мол...      1\n",
       "2                          Собаке - собачья смерть\\n      1\n",
       "3  Страницу обнови, дебил. Это тоже не оскорблени...      1\n",
       "4  тебя не убедил 6-страничный пдф в том, что Скр...      1"
      ]
     },
     "execution_count": 8,
     "metadata": {},
     "output_type": "execute_result"
    }
   ],
   "source": [
    "df.head()"
   ]
  },
  {
   "cell_type": "code",
   "execution_count": 9,
   "id": "40868a76",
   "metadata": {},
   "outputs": [
    {
     "data": {
      "text/plain": [
       "0    9586\n",
       "1    4826\n",
       "Name: toxic, dtype: int64"
      ]
     },
     "execution_count": 9,
     "metadata": {},
     "output_type": "execute_result"
    }
   ],
   "source": [
    "df.toxic.value_counts()  # распределение токсичных и нетоксичных комментариев"
   ]
  },
  {
   "cell_type": "markdown",
   "id": "dc7c080b",
   "metadata": {},
   "source": [
    "#### Выведем токсичные комментарии"
   ]
  },
  {
   "cell_type": "code",
   "execution_count": 10,
   "id": "93a4e8cc",
   "metadata": {},
   "outputs": [
    {
     "name": "stdout",
     "output_type": "stream",
     "text": [
      "Верблюдов-то за что? Дебилы, бл...\n",
      "\n",
      "Хохлы, это отдушина затюканого россиянина, мол, вон, а у хохлов еще хуже. Если бы хохлов не было, кисель их бы придумал.\n",
      "\n",
      "Собаке - собачья смерть\n",
      "\n",
      "Страницу обнови, дебил. Это тоже не оскорбление, а доказанный факт - не-дебил про себя во множественном числе писать не будет. Или мы в тебя верим - это ты и твои воображаемые друзья?\n",
      "\n",
      "тебя не убедил 6-страничный пдф в том, что Скрипалей отравила Россия? Анализировать и думать пытаешься? Ватник что ли?)\n",
      "\n"
     ]
    }
   ],
   "source": [
    "for com in df[df.toxic == 1].comment.head():\n",
    "    print(com)"
   ]
  },
  {
   "cell_type": "markdown",
   "id": "0d56faea",
   "metadata": {},
   "source": [
    "#### Выведем нетоксичные комментарии"
   ]
  },
  {
   "cell_type": "code",
   "execution_count": 11,
   "id": "db4b7319",
   "metadata": {},
   "outputs": [
    {
     "name": "stdout",
     "output_type": "stream",
     "text": [
      "В шапке были ссылки на инфу по текущему фильму марвел. Эти ссылки были заменены на фразу Репортим брипидора, игнорируем его посты. Если этого недостаточно, чтобы понять, что модератор абсолютный неадекват, и его нужно лишить полномочий, тогда эта борда пробивает абсолютное дно по неадекватности.\n",
      "\n",
      "Почитайте посты у этого автора,может найдете что нибудь полезное. Надеюсь помог) https: pikabu.ru story obyichnyie budni dezsluzhbyi 4932098\n",
      "\n",
      "Про графику было обидно) я так то проходил все серии гта со второй части по пятую, кроме гта 4. И мне не мешала графика ни в одной из частей. На компе у меня было куча видеокарт. Начиная с 32мб RIVA TNT и заканчивая 2Гб 560Ti на которой я спокойно играю который год в танки, гта5, ведьмака3 купил на распродаже и начал проходить. Да, не на ультрах. С пониженными текстурами. И не мешает. Я не понимаю дрочева на графике, требовать графику уровня плойки 4 минимум. Мне надо чтобы глаза не резало, только и всего. По поводу управления, мне не хватает переходника на type c. У меня джойстик есть от иксбокса360. Потенциала в мобильных играх достаточно чтобы забить кнопки как забивались в той же NFS MW в 2005. Не самая плохая игра была.\n",
      "\n",
      "https: pp.userapi.com c848520 v848520411 11627b cOhWqFbGjWE.jpg\n",
      "\n",
      "Возьмём как пример Россию, западноевропейские страны и США. Идёт метисация, сознательная политика замещения белого населения на пришлое черно-коричневое. Идёт создание новой расы метисов, исламизация и почернение. В крупных городах половина населения - выходцы из ебеней Мексики, Африки, Ближнего Востока, а в случае с Россией - Кавказа и Средней Азии. Этнические ниггеро-арабские гетто верят на хую законы как хотят, чудовищная по масштабам этническая преступность. Говорить о миграции и тем более затрагивать тему замещения коренного населения властями нельзя, иначе бутылка. Свобода слова тут не для вас, молодой человек. При этом говорить о том, что белые должны вымереть, и это нормально - можно. Белые официально вымирают ведётся пропаганда так или иначе направленная на снижение рождаемости белого населения. Феминизм, ЛГБТ, чайлдфри. Каждая женщина в Швеции - леволиберальная феминистка, это страна победившего феминизма. Что сегодня там происходит - страшно делается. Пропагандируются смешанные браки, межрасовые браки, пропагандируется превосходство детей-метисов. Идёт демонизация белых и пропаганда превосходства чёрных и смуглых мужчин, форс отношений белая женщина смуглый чёрный мужчина-мигрант. Как результат - всё больше чернильниц, всё больше смешанных браков, всё больше небелых метисов. Белые женщины просто не хотят контактировать с мужчинами своей нации и расы, наделяя их самыми плохими качествами и обожествляя черных. При этом большинство белых не считает завоз чурок чем-то плохим, наоборот, относятся к ним толерантно. Проводится политика насаждения толерантности, мультикультурализма, политкорректности и космополитизма. Набирающее популярность даже в России SJW - это вообще отдельная тема для обсуждения. Всё вышеперечисленное относится к сильнейшим когда-то странам, бывшим империям, нагибающим слабых. Сегодня происходит так, что бывшие империи в прямом смысле деградируют, вырождаются и вымирают, а место сильнейших когда-то, господствующих народов, занимают те, кого когда-то колонизировали. Во Франции к 2080 уже будут доминировать негры и арабы, в России - кавказцы и выходцы из средней Азии, в Великобритании - индийцы, негры, арабы, пакистанцы, etc. А в маленьких, нейтральных странах, вроде Словении или Беларуси, Литвы или Чехии, Румынии или Эстонии - всё пучком. Им вымирание не грозит, они остаются и будут оставаться белыми. Более того, у них ведётся политика, направленная на сохранение традиционных ценностей и культуры коренного населения. Они сказали беженцам нет . В Польшу, например, русскому или украинцу гораздо легче переехать и остаться, чем арабу или африканцу. В Германии ситуация противоположная, белых там не ждут. Польша, Чехия, Словакия, Венгрия, Словения, Хорватия, Сербия, БиГ, Черногория, Македония, Греция, Болгария, Румыния, Молдова, Украина, Беларусь, Литва, Латвия, Эстония - вот Европа будущего. Скандинавия, Южная, Западная Европа, а также Россия - лишатся коренного населения и своей культуры.\n",
      "\n"
     ]
    }
   ],
   "source": [
    "for com in df[df.toxic == 0].comment.head():\n",
    "    print(com)"
   ]
  },
  {
   "cell_type": "markdown",
   "id": "eec76c08",
   "metadata": {},
   "source": [
    "###### При выводе нетоксичных комментариев можно заметить, что первые 4 комментария подходят под понятние \"нетоксичный комментарий\", в то время как последний комментарий получился довольно негативным."
   ]
  },
  {
   "cell_type": "markdown",
   "id": "60427637",
   "metadata": {},
   "source": [
    "#### Создадим тестовый датасет"
   ]
  },
  {
   "cell_type": "code",
   "execution_count": 12,
   "id": "9be7999d",
   "metadata": {},
   "outputs": [],
   "source": [
    "train_df, test_df = train_test_split(df, test_size=500)"
   ]
  },
  {
   "cell_type": "code",
   "execution_count": 13,
   "id": "97d13f7d",
   "metadata": {},
   "outputs": [
    {
     "data": {
      "text/plain": [
       "(500, 2)"
      ]
     },
     "execution_count": 13,
     "metadata": {},
     "output_type": "execute_result"
    }
   ],
   "source": [
    "test_df.shape"
   ]
  },
  {
   "cell_type": "code",
   "execution_count": 14,
   "id": "9b68d208",
   "metadata": {},
   "outputs": [
    {
     "data": {
      "text/plain": [
       "0    340\n",
       "1    160\n",
       "Name: toxic, dtype: int64"
      ]
     },
     "execution_count": 14,
     "metadata": {},
     "output_type": "execute_result"
    }
   ],
   "source": [
    "test_df.toxic.value_counts()  # проверим распределение"
   ]
  },
  {
   "cell_type": "code",
   "execution_count": 15,
   "id": "fdbb5d28",
   "metadata": {},
   "outputs": [
    {
     "data": {
      "text/plain": [
       "0    9246\n",
       "1    4666\n",
       "Name: toxic, dtype: int64"
      ]
     },
     "execution_count": 15,
     "metadata": {},
     "output_type": "execute_result"
    }
   ],
   "source": [
    "train_df.toxic.value_counts()"
   ]
  },
  {
   "cell_type": "markdown",
   "id": "9f941edd",
   "metadata": {},
   "source": [
    "# Предобработка текста"
   ]
  },
  {
   "cell_type": "markdown",
   "id": "9395030f",
   "metadata": {},
   "source": [
    "Мы будем использовать логистическую регрессию, но перед тем как подавать данные на вход логистической регрессии нужно из текста сделать численные векторы, так как сама модель принимает на вход вещественные векторы. Для этого нужно провести несколько этапов предобработки текста:\n",
    "- Разобить текст на токены\n",
    "- Удалить те токены, которые не несут смысловой информации(знаки пунктуации, популярные слова в языке)\n",
    "- Каждому токену применить стемминг\n",
    "- Создание векторов"
   ]
  },
  {
   "cell_type": "code",
   "execution_count": 47,
   "id": "9ef5fcd3",
   "metadata": {},
   "outputs": [],
   "source": [
    "sentence_example = df.iloc[3].comment  # берем пример\n",
    "tokens = word_tokenize(sentence_example, language='russian')\n",
    "tokens_without_punctuation = [i for i in tokens if i not in string.punctuation]  # удаляем знаки пунктуации\n",
    "russian_stop_words = stopwords.words('russian')\n",
    "tokens_without_punctuation_and_stop_words = [i for i in tokens_without_punctuation if i not in russian_stop_words] # удалем популярные слова\n",
    "snowball = SnowballStemmer(language='russian')\n",
    "stemmed_tokens = [snowball.stem(i) for i in tokens_without_punctuation_and_stop_words]  # стемминг"
   ]
  },
  {
   "cell_type": "markdown",
   "id": "06ef8a03",
   "metadata": {},
   "source": [
    "###### Выведем, что получилось"
   ]
  },
  {
   "cell_type": "code",
   "execution_count": 48,
   "id": "fdf29c95",
   "metadata": {},
   "outputs": [
    {
     "name": "stdout",
     "output_type": "stream",
     "text": [
      "Исходый текст: Страницу обнови, дебил. Это тоже не оскорбление, а доказанный факт - не-дебил про себя во множественном числе писать не будет. Или мы в тебя верим - это ты и твои воображаемые друзья?\n",
      "\n",
      "---------------------------------\n",
      "Токены: ['Страницу', 'обнови', ',', 'дебил', '.', 'Это', 'тоже', 'не', 'оскорбление', ',', 'а', 'доказанный', 'факт', '-', 'не-дебил', 'про', 'себя', 'во', 'множественном', 'числе', 'писать', 'не', 'будет', '.', 'Или', 'мы', 'в', 'тебя', 'верим', '-', 'это', 'ты', 'и', 'твои', 'воображаемые', 'друзья', '?']\n",
      "---------------------------------\n",
      "Токены без пунктуации: ['Страницу', 'обнови', 'дебил', 'Это', 'тоже', 'не', 'оскорбление', 'а', 'доказанный', 'факт', 'не-дебил', 'про', 'себя', 'во', 'множественном', 'числе', 'писать', 'не', 'будет', 'Или', 'мы', 'в', 'тебя', 'верим', 'это', 'ты', 'и', 'твои', 'воображаемые', 'друзья']\n",
      "---------------------------------\n",
      "Токены без пунктуации и стоп слов: ['Страницу', 'обнови', 'дебил', 'Это', 'оскорбление', 'доказанный', 'факт', 'не-дебил', 'множественном', 'числе', 'писать', 'Или', 'верим', 'это', 'твои', 'воображаемые', 'друзья']\n",
      "---------------------------------\n",
      "Токены после стемминга: ['страниц', 'обнов', 'деб', 'эт', 'оскорблен', 'доказа', 'факт', 'не-деб', 'множествен', 'числ', 'писа', 'ил', 'вер', 'эт', 'тво', 'вообража', 'друз']\n",
      "---------------------------------\n"
     ]
    }
   ],
   "source": [
    "print(f\"Исходый текст: {sentence_example}\")\n",
    "print(\"---------------------------------\")\n",
    "print(f\"Токены: {tokens}\")\n",
    "print(\"---------------------------------\")\n",
    "print(f\"Токены без пунктуации: {tokens_without_punctuation}\")\n",
    "print(\"---------------------------------\")\n",
    "print(f\"Токены без пунктуации и стоп слов: {tokens_without_punctuation_and_stop_words}\")\n",
    "print(\"---------------------------------\")\n",
    "print(f\"Токены после стемминга: {stemmed_tokens}\")\n",
    "print(\"---------------------------------\")"
   ]
  },
  {
   "cell_type": "markdown",
   "id": "c046d240",
   "metadata": {},
   "source": [
    "##### Функция, чтобы можно было применять эту предобработку для каждого комментария "
   ]
  },
  {
   "cell_type": "code",
   "execution_count": 49,
   "id": "20328040",
   "metadata": {},
   "outputs": [],
   "source": [
    "snowball = SnowballStemmer(language='russian')\n",
    "russian_stop_words = stopwords.words('russian')\n",
    "\n",
    "def tokenize_sentence(sentence: str, remove_stop_words: bool = True):\n",
    "    \"\"\"\n",
    "    remove_stop_words: True, если нужно удалять стоп слова, иначе False\n",
    "    \"\"\"\n",
    "    tokens = word_tokenize(sentence, language='russian')\n",
    "    tokens = [i for i in tokens if i not in string.punctuation]\n",
    "    if remove_stop_words:\n",
    "        tokens = [i for i in tokens if i not in russian_stop_words]\n",
    "    tokens = [snowball.stem(i) for i in tokens]\n",
    "    return tokens"
   ]
  },
  {
   "cell_type": "code",
   "execution_count": 50,
   "id": "520f128c",
   "metadata": {},
   "outputs": [
    {
     "data": {
      "text/plain": [
       "['страниц',\n",
       " 'обнов',\n",
       " 'деб',\n",
       " 'эт',\n",
       " 'оскорблен',\n",
       " 'доказа',\n",
       " 'факт',\n",
       " 'не-деб',\n",
       " 'множествен',\n",
       " 'числ',\n",
       " 'писа',\n",
       " 'ил',\n",
       " 'вер',\n",
       " 'эт',\n",
       " 'тво',\n",
       " 'вообража',\n",
       " 'друз']"
      ]
     },
     "execution_count": 50,
     "metadata": {},
     "output_type": "execute_result"
    }
   ],
   "source": [
    "tokenize_sentence(sentence_example)"
   ]
  },
  {
   "cell_type": "code",
   "execution_count": 51,
   "id": "8e9fa748",
   "metadata": {},
   "outputs": [],
   "source": [
    "vectorizer = TfidfVectorizer(tokenizer=lambda x: tokenize_sentence(x, remove_stop_words=True))"
   ]
  },
  {
   "cell_type": "code",
   "execution_count": 52,
   "id": "48796176",
   "metadata": {},
   "outputs": [],
   "source": [
    "features = vectorizer.fit_transform(train_df.comment)"
   ]
  },
  {
   "cell_type": "markdown",
   "id": "e1ebe0d9",
   "metadata": {},
   "source": [
    "# Тренировка моделей"
   ]
  },
  {
   "cell_type": "code",
   "execution_count": 22,
   "id": "f17e85c4",
   "metadata": {},
   "outputs": [
    {
     "data": {
      "text/plain": [
       "LogisticRegression(random_state=23)"
      ]
     },
     "execution_count": 22,
     "metadata": {},
     "output_type": "execute_result"
    }
   ],
   "source": [
    "model = LogisticRegression(random_state=23)\n",
    "model.fit(features, train_df.toxic)"
   ]
  },
  {
   "cell_type": "code",
   "execution_count": 57,
   "id": "5ec8932f",
   "metadata": {},
   "outputs": [
    {
     "data": {
      "text/plain": [
       "array([0])"
      ]
     },
     "execution_count": 57,
     "metadata": {},
     "output_type": "execute_result"
    }
   ],
   "source": [
    "model.predict(features[12])"
   ]
  },
  {
   "cell_type": "code",
   "execution_count": 58,
   "id": "e982d8c8",
   "metadata": {},
   "outputs": [
    {
     "data": {
      "text/plain": [
       "'По исследованиям чистка с пастой эффективнее чистки без пасты процентов на 15-20. Только иллюзия создается благодаря освежающим вкусам.\\n'"
      ]
     },
     "execution_count": 58,
     "metadata": {},
     "output_type": "execute_result"
    }
   ],
   "source": [
    "train_df.comment.iloc[12]"
   ]
  },
  {
   "cell_type": "markdown",
   "id": "a5a9ac33",
   "metadata": {},
   "source": [
    "###### Так пользоваться моделью неудобно, лучше подавать на вход текст.  pipeline"
   ]
  },
  {
   "cell_type": "code",
   "execution_count": 25,
   "id": "3140bbe7",
   "metadata": {},
   "outputs": [],
   "source": [
    "model_pipeline = Pipeline([\n",
    "    ('vectorizer', TfidfVectorizer(tokenizer=lambda x: tokenize_sentence(x, remove_stop_words=True))),\n",
    "    ('model', LogisticRegression(random_state=23))\n",
    "])"
   ]
  },
  {
   "cell_type": "code",
   "execution_count": 26,
   "id": "a258b9f8",
   "metadata": {},
   "outputs": [
    {
     "data": {
      "text/plain": [
       "Pipeline(steps=[('vectorizer',\n",
       "                 TfidfVectorizer(tokenizer=<function <lambda> at 0x7efe43367c10>)),\n",
       "                ('model', LogisticRegression(random_state=23))])"
      ]
     },
     "execution_count": 26,
     "metadata": {},
     "output_type": "execute_result"
    }
   ],
   "source": [
    "model_pipeline.fit(train_df.comment, train_df.toxic)"
   ]
  },
  {
   "cell_type": "code",
   "execution_count": 27,
   "id": "1b2abfe5",
   "metadata": {},
   "outputs": [
    {
     "data": {
      "text/plain": [
       "array([0])"
      ]
     },
     "execution_count": 27,
     "metadata": {},
     "output_type": "execute_result"
    }
   ],
   "source": [
    "model_pipeline.predict([\"Привет! У меня все нормально, как у тебя дела?\"])"
   ]
  },
  {
   "cell_type": "code",
   "execution_count": 28,
   "id": "22bed2eb",
   "metadata": {},
   "outputs": [
    {
     "data": {
      "text/plain": [
       "array([1])"
      ]
     },
     "execution_count": 28,
     "metadata": {},
     "output_type": "execute_result"
    }
   ],
   "source": [
    "model_pipeline.predict([\"слушай не пойти ли бы тебе... \"])"
   ]
  },
  {
   "cell_type": "markdown",
   "id": "c130bd9b",
   "metadata": {},
   "source": [
    "### Метрики"
   ]
  },
  {
   "cell_type": "code",
   "execution_count": 29,
   "id": "24100597",
   "metadata": {},
   "outputs": [
    {
     "data": {
      "text/plain": [
       "0.8969072164948454"
      ]
     },
     "execution_count": 29,
     "metadata": {},
     "output_type": "execute_result"
    }
   ],
   "source": [
    "precision_score(y_true=test_df.toxic, y_pred=model_pipeline.predict(test_df.comment))"
   ]
  },
  {
   "cell_type": "code",
   "execution_count": 30,
   "id": "ba9965d2",
   "metadata": {},
   "outputs": [
    {
     "data": {
      "text/plain": [
       "0.54375"
      ]
     },
     "execution_count": 30,
     "metadata": {},
     "output_type": "execute_result"
    }
   ],
   "source": [
    "recall_score(y_true=test_df.toxic, y_pred=model_pipeline.predict(test_df.comment))"
   ]
  },
  {
   "cell_type": "markdown",
   "id": "5bd7d88d",
   "metadata": {},
   "source": [
    "Нужна модель с *precision_score* минимум 0.95, так что такая модель не подходит. Логистическая регрессия возвращает не просто значение(к какому классу это относится), а вероятности. Потом функция ***predict*** сравнивает это с каким-то порогом и если вероятность больше порога, то возвращается класс 1, иначе класс 0. Двигая этот порог модно менять *precision_score* и *recall_score*"
   ]
  },
  {
   "cell_type": "code",
   "execution_count": 31,
   "id": "0dfc6c9e",
   "metadata": {},
   "outputs": [],
   "source": [
    "prec, rec, thresholds = precision_recall_curve(y_true=test_df[\"toxic\"], probas_pred=model_pipeline.predict_proba(test_df[\"comment\"])[:, 1])"
   ]
  },
  {
   "cell_type": "code",
   "execution_count": 32,
   "id": "a637d0d3",
   "metadata": {},
   "outputs": [
    {
     "data": {
      "text/plain": [
       "<sklearn.metrics._plot.precision_recall_curve.PrecisionRecallDisplay at 0x7efe444a27f0>"
      ]
     },
     "execution_count": 32,
     "metadata": {},
     "output_type": "execute_result"
    },
    {
     "data": {
      "image/png": "[encoded data removed]",
      "text/plain": [
       "<Figure size 432x288 with 1 Axes>"
      ]
     },
     "metadata": {
      "needs_background": "light"
     },
     "output_type": "display_data"
    }
   ],
   "source": [
    "plot_precision_recall_curve(estimator=model_pipeline, X=test_df.comment, y=test_df.toxic)"
   ]
  },
  {
   "cell_type": "code",
   "execution_count": 33,
   "id": "57837d19",
   "metadata": {},
   "outputs": [
    {
     "data": {
      "text/plain": [
       "(array([441, 442, 443, 444, 445, 446, 447, 448, 449, 450, 451, 464, 465,\n",
       "        466, 467, 468, 469, 470, 471, 472]),)"
      ]
     },
     "execution_count": 33,
     "metadata": {},
     "output_type": "execute_result"
    }
   ],
   "source": [
    "np.where(prec > 0.95)"
   ]
  },
  {
   "cell_type": "code",
   "execution_count": 62,
   "id": "e5d5eee1",
   "metadata": {},
   "outputs": [
    {
     "data": {
      "text/plain": [
       "0.7918855715201899"
      ]
     },
     "execution_count": 62,
     "metadata": {},
     "output_type": "execute_result"
    }
   ],
   "source": [
    "thresholds[441]"
   ]
  },
  {
   "cell_type": "code",
   "execution_count": 63,
   "id": "a51aba78",
   "metadata": {},
   "outputs": [
    {
     "data": {
      "text/plain": [
       "0.9666666666666667"
      ]
     },
     "execution_count": 63,
     "metadata": {},
     "output_type": "execute_result"
    }
   ],
   "source": [
    "precision_score(y_true=test_df[\"toxic\"], y_pred=model_pipeline.predict_proba(test_df[\"comment\"])[:, 1] > thresholds[441])"
   ]
  },
  {
   "cell_type": "code",
   "execution_count": 64,
   "id": "5e251ef5",
   "metadata": {},
   "outputs": [
    {
     "data": {
      "text/plain": [
       "0.18125"
      ]
     },
     "execution_count": 64,
     "metadata": {},
     "output_type": "execute_result"
    }
   ],
   "source": [
    "recall_score(y_true=test_df[\"toxic\"], y_pred=model_pipeline.predict_proba(test_df[\"comment\"])[:, 1] > thresholds[441])"
   ]
  },
  {
   "cell_type": "markdown",
   "id": "95f68288",
   "metadata": {},
   "source": [
    "### Улучшим модель"
   ]
  },
  {
   "cell_type": "code",
   "execution_count": 37,
   "id": "2afd611d",
   "metadata": {},
   "outputs": [],
   "source": [
    "grid_pipeline = GridSearchCV(\n",
    "        LogisticRegression(random_state=23),\n",
    "        param_grid={'C': [0.1, 1, 10.]},\n",
    "        cv=3,\n",
    "         verbose=4\n",
    "        )"
   ]
  },
  {
   "cell_type": "code",
   "execution_count": 38,
   "id": "da1dfe82",
   "metadata": {},
   "outputs": [
    {
     "name": "stdout",
     "output_type": "stream",
     "text": [
      "Fitting 3 folds for each of 3 candidates, totalling 9 fits\n",
      "[CV 1/3] END .............................C=0.1;, score=0.685 total time=   0.3s\n",
      "[CV 2/3] END .............................C=0.1;, score=0.686 total time=   0.4s\n",
      "[CV 3/3] END .............................C=0.1;, score=0.687 total time=   0.5s\n",
      "[CV 1/3] END ...............................C=1;, score=0.839 total time=   0.8s\n",
      "[CV 2/3] END ...............................C=1;, score=0.845 total time=   0.7s\n",
      "[CV 3/3] END ...............................C=1;, score=0.835 total time=   0.5s\n",
      "[CV 1/3] END ............................C=10.0;, score=0.863 total time=   0.8s\n",
      "[CV 2/3] END ............................C=10.0;, score=0.871 total time=   1.3s\n",
      "[CV 3/3] END ............................C=10.0;, score=0.864 total time=   1.1s\n"
     ]
    },
    {
     "data": {
      "text/plain": [
       "GridSearchCV(cv=3, estimator=LogisticRegression(random_state=23),\n",
       "             param_grid={'C': [0.1, 1, 10.0]}, verbose=4)"
      ]
     },
     "execution_count": 38,
     "metadata": {},
     "output_type": "execute_result"
    }
   ],
   "source": [
    "grid_pipeline.fit(features, train_df.toxic)"
   ]
  },
  {
   "cell_type": "code",
   "execution_count": 39,
   "id": "87bb5e03",
   "metadata": {},
   "outputs": [
    {
     "data": {
      "text/plain": [
       "{'C': 10.0}"
      ]
     },
     "execution_count": 39,
     "metadata": {},
     "output_type": "execute_result"
    }
   ],
   "source": [
    "grid_pipeline.best_params_"
   ]
  },
  {
   "cell_type": "code",
   "execution_count": 40,
   "id": "17f11a83",
   "metadata": {},
   "outputs": [],
   "source": [
    "model_pipeline_c_10 = Pipeline([\n",
    "    ('vectorizer', TfidfVectorizer(tokenizer=lambda x: tokenize_sentence(x, remove_stop_words=True))),\n",
    "    ('model', LogisticRegression(C=10., random_state=23))\n",
    "])"
   ]
  },
  {
   "cell_type": "code",
   "execution_count": 41,
   "id": "ca75505d",
   "metadata": {},
   "outputs": [
    {
     "data": {
      "text/plain": [
       "Pipeline(steps=[('vectorizer',\n",
       "                 TfidfVectorizer(tokenizer=<function <lambda> at 0x7efe42d13940>)),\n",
       "                ('model', LogisticRegression(C=10.0, random_state=23))])"
      ]
     },
     "execution_count": 41,
     "metadata": {},
     "output_type": "execute_result"
    }
   ],
   "source": [
    "model_pipeline_c_10.fit(train_df.comment, train_df.toxic)"
   ]
  },
  {
   "cell_type": "code",
   "execution_count": 42,
   "id": "7a502126",
   "metadata": {},
   "outputs": [],
   "source": [
    "prec_c_10, rec_c_10, thresholds_c_10 = precision_recall_curve(y_true=test_df[\"toxic\"], probas_pred=model_pipeline_c_10.predict_proba(test_df[\"comment\"])[:, 1])"
   ]
  },
  {
   "cell_type": "code",
   "execution_count": 43,
   "id": "eac29f16",
   "metadata": {},
   "outputs": [
    {
     "data": {
      "text/plain": [
       "<sklearn.metrics._plot.precision_recall_curve.PrecisionRecallDisplay at 0x7efe4336e3a0>"
      ]
     },
     "execution_count": 43,
     "metadata": {},
     "output_type": "execute_result"
    },
    {
     "data": {
      "image/png": "[encoded data removed]",
      "text/plain": [
       "<Figure size 432x288 with 1 Axes>"
      ]
     },
     "metadata": {
      "needs_background": "light"
     },
     "output_type": "display_data"
    }
   ],
   "source": [
    "plot_precision_recall_curve(estimator=model_pipeline_c_10, X=test_df.comment, y=test_df.toxic)"
   ]
  },
  {
   "cell_type": "code",
   "execution_count": 59,
   "id": "eda505f7",
   "metadata": {},
   "outputs": [
    {
     "data": {
      "text/plain": [
       "(array([389, 393, 394, 395, 396, 397, 398, 399, 400, 401, 402, 403, 404,\n",
       "        405, 406, 407, 408, 409, 410, 411, 412, 413, 414, 415, 416, 417,\n",
       "        418, 419, 420, 421, 422, 423, 424, 425, 426, 427, 428, 429, 430]),)"
      ]
     },
     "execution_count": 59,
     "metadata": {},
     "output_type": "execute_result"
    }
   ],
   "source": [
    "np.where(prec_c_10 > 0.95)"
   ]
  },
  {
   "cell_type": "code",
   "execution_count": 60,
   "id": "4c25a295",
   "metadata": {},
   "outputs": [
    {
     "data": {
      "text/plain": [
       "0.95"
      ]
     },
     "execution_count": 60,
     "metadata": {},
     "output_type": "execute_result"
    }
   ],
   "source": [
    "precision_score(y_true=test_df[\"toxic\"], y_pred=model_pipeline_c_10.predict_proba(test_df[\"comment\"])[:, 1] > thresholds_c_10[389])"
   ]
  },
  {
   "cell_type": "code",
   "execution_count": 61,
   "id": "1a19e5e0",
   "metadata": {},
   "outputs": [
    {
     "data": {
      "text/plain": [
       "0.2375"
      ]
     },
     "execution_count": 61,
     "metadata": {},
     "output_type": "execute_result"
    }
   ],
   "source": [
    "recall_score(y_true=test_df[\"toxic\"], y_pred=model_pipeline_c_10.predict_proba(test_df[\"comment\"])[:, 1] > thresholds_c_10[389])"
   ]
  }
 ],
 "metadata": {
  "kernelspec": {
   "display_name": "Python 3 (ipykernel)",
   "language": "python",
   "name": "python3"
  },
  "language_info": {
   "codemirror_mode": {
    "name": "ipython",
    "version": 3
   },
   "file_extension": ".py",
   "mimetype": "text/x-python",
   "name": "python",
   "nbconvert_exporter": "python",
   "pygments_lexer": "ipython3",
   "version": "3.8.10"
  }
 },
 "nbformat": 4,
 "nbformat_minor": 5
}
